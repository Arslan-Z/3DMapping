{
 "cells": [
  {
   "cell_type": "code",
   "execution_count": 1,
   "metadata": {},
   "outputs": [],
   "source": [
    "import torch\n",
    "import sys\n",
    "sys.path.append(\"Models\")\n",
    "from Models.STPN import *"
   ]
  },
  {
   "cell_type": "code",
   "execution_count": 2,
   "metadata": {},
   "outputs": [],
   "source": [
    "model = STPN(height_feat_size=8, cell_feat_size=8)"
   ]
  },
  {
   "cell_type": "code",
   "execution_count": 3,
   "metadata": {},
   "outputs": [
    {
     "name": "stdout",
     "output_type": "stream",
     "text": [
      "torch.Size([1, 16, 64, 64, 64])\n",
      "torch.Size([1, 14, 64, 64, 64])\n",
      "torch.Size([1, 14, 128, 32, 32])\n"
     ]
    }
   ],
   "source": [
    "T = 16\n",
    "H = 128\n",
    "W = 128\n",
    "C = 8\n",
    "B = 1\n",
    "dummy_input = torch.zeros(B, T, C, H, W)\n",
    "dummy_output = model(dummy_input)"
   ]
  },
  {
   "cell_type": "code",
   "execution_count": 4,
   "metadata": {},
   "outputs": [],
   "source": [
    "# STC BLOCK:\n",
    "# Conv2d halves H, W while increasing channel size\n",
    "# Note that one of the convs is conv2(3, 1, 1) which preserves shape. The other is stride 2 which decreases.\n",
    "# The conv3d reduces T size by 2. Shape (3, 1, 1)\n",
    "# conv3 is only present in the first two blocks\n",
    "\n",
    "# Temporal pooling is just pooling across T through max pool 3D\n",
    "\n",
    "# Upscale:\n",
    "# Interpolate instead of deconv\n",
    "# Concatenate along dimension 1\n",
    "# Perform convolution twice in a row, preserving size but changing filter size"
   ]
  },
  {
   "cell_type": "code",
   "execution_count": 10,
   "metadata": {},
   "outputs": [
    {
     "name": "stdout",
     "output_type": "stream",
     "text": [
      "97.1536545\n",
      "28.016084000000003\n",
      "1.8922119899999998\n",
      "0.00042292895200000003\n",
      "34.2605723\n",
      "34.9072298\n",
      "5.75128967\n",
      "0.663143297\n",
      "60.9322622\n",
      "33.0522611\n",
      "53.51781570000001\n"
     ]
    }
   ],
   "source": [
    "import numpy as np\n",
    "\n",
    "iou = np.array([9.71536545e-01, 2.80160840e-01, 1.89221199e-02, 4.22928952e-06,\n",
    " 3.42605723e-01, 3.49072298e-01, 5.75128967e-02, 6.63143297e-03,\n",
    " 6.09322622e-01, 3.30522611e-01, 5.35178157e-01])\n",
    "\n",
    "for i in range(11):\n",
    "    print(100 * iou[i])"
   ]
  },
  {
   "cell_type": "code",
   "execution_count": null,
   "metadata": {},
   "outputs": [],
   "source": []
  }
 ],
 "metadata": {
  "kernelspec": {
   "display_name": "Python 3",
   "language": "python",
   "name": "python3"
  },
  "language_info": {
   "codemirror_mode": {
    "name": "ipython",
    "version": 3
   },
   "file_extension": ".py",
   "mimetype": "text/x-python",
   "name": "python",
   "nbconvert_exporter": "python",
   "pygments_lexer": "ipython3",
   "version": "3.8.8"
  }
 },
 "nbformat": 4,
 "nbformat_minor": 4
}
