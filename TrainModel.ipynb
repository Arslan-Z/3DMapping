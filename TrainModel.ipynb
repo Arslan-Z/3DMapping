{
 "cells": [
  {
   "cell_type": "code",
   "execution_count": 1,
   "metadata": {},
   "outputs": [],
   "source": [
    "import torch\n",
    "import sys\n",
    "\n",
    "sys.path.append(\"./Models\")\n",
    "from FiniteHorizon import *\n",
    "from PointPillar import *"
   ]
  },
  {
   "cell_type": "code",
   "execution_count": 2,
   "metadata": {},
   "outputs": [
    {
     "name": "stdout",
     "output_type": "stream",
     "text": [
      "torch.Size([2, 60, 192, 96])\n"
     ]
    }
   ],
   "source": [
    "B = 2\n",
    "T = 5\n",
    "\n",
    "h = 192\n",
    "w = 96\n",
    "z = 10\n",
    "f = 20\n",
    "\n",
    "model = FiniteHorizon(height_feat_size=f, cell_feat_size=60)\n",
    "dummy_data = torch.zeros((B, T, h, w, f))\n",
    "with torch.no_grad():\n",
    "    model(dummy_data)"
   ]
  },
  {
   "cell_type": "code",
   "execution_count": 3,
   "metadata": {},
   "outputs": [],
   "source": [
    "voxel_size = (0.5, 2.0, 0.5) # r, theta, z\n",
    "pc_range = (0, 40, 0, 360, -5, 5)\n",
    "encoder = PillarFeatureNet(num_input_features=3, num_filters=(64, 32), with_distance=True, \n",
    "                           voxel_size=voxel_size, pc_range=pc_range)"
   ]
  },
  {
   "cell_type": "code",
   "execution_count": 12,
   "metadata": {},
   "outputs": [
    {
     "name": "stdout",
     "output_type": "stream",
     "text": [
      "torch.Size([10000, 3])\n"
     ]
    }
   ],
   "source": [
    "m = torch.distributions.multivariate_normal.MultivariateNormal(torch.zeros(3), 10.0*torch.eye(3))\n",
    "pc = m.sample((1, 10000, ))\n",
    "with torch.no_grad():\n",
    "    encodings = encoder(pc, )"
   ]
  },
  {
   "cell_type": "code",
   "execution_count": null,
   "metadata": {},
   "outputs": [],
   "source": []
  }
 ],
 "metadata": {
  "kernelspec": {
   "display_name": "Python 3",
   "language": "python",
   "name": "python3"
  },
  "language_info": {
   "codemirror_mode": {
    "name": "ipython",
    "version": 3
   },
   "file_extension": ".py",
   "mimetype": "text/x-python",
   "name": "python",
   "nbconvert_exporter": "python",
   "pygments_lexer": "ipython3",
   "version": "3.8.8"
  }
 },
 "nbformat": 4,
 "nbformat_minor": 4
}
