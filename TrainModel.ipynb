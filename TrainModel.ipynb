{
 "cells": [
  {
   "cell_type": "code",
   "execution_count": 1,
   "metadata": {},
   "outputs": [],
   "source": [
    "import torch\n",
    "import sys\n",
    "\n",
    "sys.path.append(\"./Models\")\n",
    "from FiniteHorizon import *\n",
    "import math"
   ]
  },
  {
   "cell_type": "code",
   "execution_count": 2,
   "metadata": {},
   "outputs": [],
   "source": [
    "t_dim = 192\n",
    "r_dim = 96\n",
    "z_dim = 10\n",
    "\n",
    "B = 2\n",
    "T = 5\n",
    "f = 20\n",
    "\n",
    "# Cylindrical coordinates r, theta, z\n",
    "coor_ranges = [0.0, 0.0, -5.0, 48.0, 2*math.pi, 5.0]\n",
    "voxel_sizes = [abs(coor_ranges[3] - coor_ranges[0]) / r_dim, \n",
    "              abs(coor_ranges[4] - coor_ranges[1]) / t_dim,\n",
    "              abs(coor_ranges[5] - coor_ranges[2]) / 1] # since BEV\n",
    "\n",
    "in_dim = 30 # Input feature size per point\n",
    "enc_dim = 128 # Size of point pillars\n",
    "z_latent_dim = 20 # Hidden state size for each cell\n",
    "latent_dim = int(z_dim * z_latent_dim) # Size of output of motion net\n",
    "out_dim = 26 # Number of semantic classes\n",
    "\n",
    "device = torch.device(\"cuda\" if torch.cuda.is_available() else \"cpu\")"
   ]
  },
  {
   "cell_type": "code",
   "execution_count": 3,
   "metadata": {},
   "outputs": [],
   "source": [
    "model = FiniteHorizon(voxel_sizes, coor_ranges, device=device)"
   ]
  },
  {
   "cell_type": "code",
   "execution_count": 4,
   "metadata": {},
   "outputs": [
    {
     "name": "stdout",
     "output_type": "stream",
     "text": [
      "torch.Size([2, 96, 192, 10, 26])\n"
     ]
    }
   ],
   "source": [
    "m = torch.distributions.multivariate_normal.MultivariateNormal(torch.zeros(in_dim), 10.0*torch.eye(in_dim))\n",
    "pc_lists = []\n",
    "for b_i in range(B):\n",
    "    b_list = []\n",
    "    for t_i in range(T):\n",
    "        b_list.append(m.sample((10000, )).to(device))\n",
    "    pc_lists.append(b_list)\n",
    "preds = model(pc_lists)\n",
    "print(preds.shape)"
   ]
  },
  {
   "cell_type": "code",
   "execution_count": null,
   "metadata": {},
   "outputs": [],
   "source": []
  }
 ],
 "metadata": {
  "kernelspec": {
   "display_name": "Python 3 (ipykernel)",
   "language": "python",
   "name": "python3"
  },
  "language_info": {
   "codemirror_mode": {
    "name": "ipython",
    "version": 3
   },
   "file_extension": ".py",
   "mimetype": "text/x-python",
   "name": "python",
   "nbconvert_exporter": "python",
   "pygments_lexer": "ipython3",
   "version": "3.8.10"
  }
 },
 "nbformat": 4,
 "nbformat_minor": 4
}
